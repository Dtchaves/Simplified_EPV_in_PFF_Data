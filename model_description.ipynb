{
 "cells": [
  {
   "cell_type": "markdown",
   "metadata": {},
   "source": [
    "# Models Description"
   ]
  },
  {
   "cell_type": "markdown",
   "metadata": {},
   "source": [
    "## Pass"
   ]
  },
  {
   "cell_type": "markdown",
   "metadata": {},
   "source": [
    "### Pass Sucess Probability"
   ]
  },
  {
   "cell_type": "markdown",
   "metadata": {},
   "source": [
    "* **epochs**: 100\n",
    "* **learning_rate**: 0.01\n",
    "* **weight_decay**: 0.01\n",
    "* **optim_func**: AdamW\n",
    "* **loss**: Binary Cross Entropy Loss\n",
    "* **model**: Soccermap + Sigmoid\n",
    "* **label**: If the pass was a sucess or not\n",
    "* **training_method**: Employ a loss function to compute the difference between the ground truth label and the predicted value at the pixel where the pass occurred\n",
    "\n",
    "* **data**: 17 matrices :\n",
    "    - Locations of attacking team\n",
    "    - Locations of defending team\n",
    "    - Distance to ball\n",
    "    - Distance to goal\n",
    "    - Cosine of the angle between the ball and goal\n",
    "    - Sine of the angle between the ball and goal\n",
    "    - Angle to the goal location\n",
    "    - Ball speed x\n",
    "    - Ball speed y\n",
    "    - Number of possession team’s players between the ball and every other location\n",
    "    - Number of opponent team’s players between the ball and every other location\n",
    "    - Carrier's velocity\n",
    "    - Possession team players' velocity x\n",
    "    - Possession team players' velocity y\n",
    "    - Defending team players' velocity x\n",
    "    - Defending team players' velocity y\n",
    "    - Distance to event's origin location\n"
   ]
  },
  {
   "cell_type": "markdown",
   "metadata": {},
   "source": [
    "### Pass Sucess Probability"
   ]
  },
  {
   "cell_type": "markdown",
   "metadata": {},
   "source": [
    "* **epochs**: 100\n",
    "* **learning_rate**: 0.01\n",
    "* **weight_decay**: 0.01\n",
    "* **optim_func**: AdamW\n",
    "* **loss**: Binary Cross Entropy Loss (log loss to binary problems)\n",
    "* **model**: Soccermap + sofmax in hole matrix\n",
    "* **label**: 1 - Indicates that the pass occurred at that location \n",
    "* **training_method**: Employ a loss function to compute the difference between the ground truth label (1) and the predicted value at the pixel where the pass occurred\n",
    "\n",
    "* **data**: 17 matrices :\n",
    "    - Locations of attacking team\n",
    "    - Locations of defending team\n",
    "    - Distance to ball\n",
    "    - Distance to goal\n",
    "    - Cosine of the angle between the ball and goal\n",
    "    - Sine of the angle between the ball and goal\n",
    "    - Angle to the goal location\n",
    "    - Ball speed x\n",
    "    - Ball speed y\n",
    "    - Number of possession team’s players between the ball and every other location\n",
    "    - Number of opponent team’s players between the ball and every other location\n",
    "    - Carrier's velocity\n",
    "    - Possession team players' velocity x\n",
    "    - Possession team players' velocity y\n",
    "    - Defending team players' velocity x\n",
    "    - Defending team players' velocity y\n",
    "    - Distance to event's origin location"
   ]
  }
 ],
 "metadata": {
  "language_info": {
   "name": "python"
  }
 },
 "nbformat": 4,
 "nbformat_minor": 2
}
