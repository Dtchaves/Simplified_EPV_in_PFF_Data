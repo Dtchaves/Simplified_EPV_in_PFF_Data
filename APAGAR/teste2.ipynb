{
 "cells": [
  {
   "cell_type": "code",
   "execution_count": 32,
   "metadata": {},
   "outputs": [],
   "source": [
    "import pandas as pd\n",
    "import numpy as np\n",
    "import torch"
   ]
  },
  {
   "cell_type": "code",
   "execution_count": 33,
   "metadata": {},
   "outputs": [],
   "source": [
    "class ToSoccerMapTensor:\n",
    "    \"\"\"Convert inputs to a spatial representation.\n",
    "\n",
    "    Parameters\n",
    "    ----------\n",
    "    dim : tuple(int), default=(68, 104)\n",
    "        The dimensions of the pitch in the spatial representation.\n",
    "    \"\"\"\n",
    "\n",
    "    def __init__(self, dim=(68, 104)):\n",
    "        assert len(dim) == 2\n",
    "        self.y_bins, self.x_bins = dim\n",
    "\n",
    "    def _get_cell_indexes(self, x, y):\n",
    "        x_bin = np.clip((x + 52.5) / 105 * self.x_bins, 0, self.x_bins - 1).astype(np.uint8)\n",
    "        y_bin = np.clip((y + 34) / 68 * self.y_bins, 0, self.y_bins - 1).astype(np.uint8)\n",
    "        return x_bin, y_bin\n",
    "\n",
    "    def __call__(self, sample):\n",
    "        start_x, start_y, end_x, end_y = (\n",
    "            sample[\"ball_x_start\"],\n",
    "            sample[\"ball_y_start\"],\n",
    "            sample[\"ball_x_end\"],\n",
    "            sample[\"ball_y_end\"],\n",
    "        )\n",
    "        speed_x, speed_y = sample[\"vx_player_201\"], sample[\"vy_player_201\"]\n",
    "        frame = sample[\"frame\"]\n",
    "\n",
    "        pass_outcome_type = sample.get(\"pass_outcome_type\")\n",
    "        pass_outcome_type_mapped = pass_outcome_mapping.get(pass_outcome_type, None)\n",
    "        if pass_outcome_type_mapped is None:\n",
    "            raise ValueError(f\"Invalid pass_outcome_type: {pass_outcome_type}\")\n",
    "        target = int(pass_outcome_type_mapped)\n",
    "\n",
    "        ball_coo = np.array([[start_x, start_y]])\n",
    "        goal_coo = np.array([[52.5, 0]])\n",
    "\n",
    "        players_att_coo = frame.loc[frame[\"team_id\"] == sample[\"team_id\"], [\"x_player_201\", \"y_player_201\"]].values.reshape(-1, 2)\n",
    "        players_def_coo = frame.loc[frame[\"team_id\"] != sample[\"team_id\"], [\"x_player_201\", \"y_player_201\"]].values.reshape(-1, 2)\n",
    "\n",
    "        matrix = np.zeros((15, self.y_bins, self.x_bins))\n",
    "\n",
    "        # Channel 1: Locations of attacking team\n",
    "        x_bin_att, y_bin_att = self._get_cell_indexes(players_att_coo[:, 0], players_att_coo[:, 1])\n",
    "        matrix[0, y_bin_att, x_bin_att] = 1\n",
    "\n",
    "        # Channel 2: Locations of defending team\n",
    "        x_bin_def, y_bin_def = self._get_cell_indexes(players_def_coo[:, 0], players_def_coo[:, 1])\n",
    "        matrix[1, y_bin_def, x_bin_def] = 1\n",
    "\n",
    "        # Channel 3: Distance to ball\n",
    "        yy, xx = np.ogrid[0.5: self.y_bins, 0.5: self.x_bins]\n",
    "        x0_ball, y0_ball = self._get_cell_indexes(ball_coo[:, 0], ball_coo[:, 1])\n",
    "        matrix[2, :, :] = np.sqrt((xx - x0_ball) * 2 + (yy - y0_ball) * 2)\n",
    "\n",
    "        # Channel 4: Distance to goal\n",
    "        x0_goal, y0_goal = self._get_cell_indexes(goal_coo[:, 0], goal_coo[:, 1])\n",
    "        matrix[3, :, :] = np.sqrt((xx - x0_goal) * 2 + (yy - y0_goal) * 2)\n",
    "\n",
    "        # Channel 5: Cosine of the angle between the ball and goal\n",
    "        coords = np.dstack(np.meshgrid(xx, yy))\n",
    "        goal_coo_bin = np.concatenate((x0_goal, y0_goal))\n",
    "        ball_coo_bin = np.concatenate((x0_ball, y0_ball))\n",
    "        a = goal_coo_bin - coords\n",
    "        b = ball_coo_bin - coords\n",
    "        matrix[4, :, :] = np.clip(np.sum(a * b, axis=2) / (np.linalg.norm(a, axis=2) * np.linalg.norm(b, axis=2)), -1, 1)\n",
    "\n",
    "        # Channel 6: Sine of the angle between the ball and goal\n",
    "        matrix[5, :, :] = np.sqrt(1 - matrix[4, :, :] ** 2)\n",
    "\n",
    "        # Channel 7: Angle to the goal location\n",
    "        matrix[6, :, :] = np.abs(np.arctan2((y0_goal - coords[:, :, 1]), (x0_goal - coords[:, :, 0])))\n",
    "\n",
    "        # Channels 8-9: Ball speed\n",
    "        matrix[7, y0_ball, x0_ball] = speed_x\n",
    "        matrix[8, y0_ball, x0_ball] = speed_y\n",
    "\n",
    "        # Channel 10: Number of possession team’s players between the ball and every other location\n",
    "        dist_att_goal = matrix[0, :, :] * matrix[3, :, :]\n",
    "        dist_att_goal[dist_att_goal == 0] = np.nan\n",
    "        dist_ball_goal = matrix[3, y0_ball, x0_ball]\n",
    "        player_in_front_of_ball = dist_att_goal <= dist_ball_goal\n",
    "\n",
    "        outplayed1 = lambda x: np.sum(player_in_front_of_ball & (x <= dist_ball_goal) & (dist_att_goal >= x))\n",
    "        matrix[9, :, :] = np.vectorize(outplayed1)(matrix[3, :, :])\n",
    "\n",
    "        # Channel 11: Number of opponent team’s players between the ball and every other location\n",
    "        dist_def_goal = matrix[1, :, :] * matrix[3, :, :]\n",
    "        dist_def_goal[dist_def_goal == 0] = np.nan\n",
    "        dist_ball_goal = matrix[3, y0_ball, x0_ball]\n",
    "        player_in_front_of_ball = dist_def_goal <= dist_ball_goal\n",
    "\n",
    "        outplayed2 = lambda x: np.sum(player_in_front_of_ball & (x <= dist_ball_goal) & (dist_def_goal >= x))\n",
    "        matrix[10, :, :] = np.vectorize(outplayed2)(matrix[3, :, :])\n",
    "\n",
    "        # Channel 12: Carrier's velocity\n",
    "        carrier_velocity = sample[\"carrier_velocity\"]\n",
    "        matrix[11, y0_ball, x0_ball] = carrier_velocity\n",
    "\n",
    "        # Channels 13-14: Possession team players' velocity (x and y)\n",
    "        players_vel_coo = frame.loc[frame[\"team_id\"] == sample[\"team_id\"], [\"vx_player_201\", \"vy_player_201\"]].values\n",
    "        x_bin_att_vel, y_bin_att_vel = self._get_cell_indexes(players_att_coo[:, 0], players_att_coo[:, 1])\n",
    "        matrix[12, y_bin_att_vel, x_bin_att_vel] = players_vel_coo[:, 0]\n",
    "        matrix[13, y_bin_att_vel, x_bin_att_vel] = players_vel_coo[:, 1]\n",
    "\n",
    "        # Channel 15: Distance to event's origin location\n",
    "        x0_start, y0_start = self._get_cell_indexes(np.array([start_x]), np.array([start_y]))\n",
    "        matrix[14, :, :] = np.sqrt((xx - x0_start) * 2 + (yy - y0_start) * 2)\n",
    "\n",
    "        mask = np.zeros((1, self.y_bins, self.x_bins))\n",
    "        end_ball_coo = np.array([[end_x, end_y]])\n",
    "        if np.isnan(end_ball_coo).any():\n",
    "            raise ValueError(\"End coordinates not known.\")\n",
    "        x0_ball_end, y0_ball_end = self._get_cell_indexes(end_ball_coo[:, 0], end_ball_coo[:, 1])\n",
    "        mask[0, y0_ball_end, x0_ball_end] = 1\n",
    "\n",
    "        return (\n",
    "            torch.from_numpy(matrix).float(),\n",
    "            torch.from_numpy(mask).float(),\n",
    "            torch.tensor([target]).float()\n",
    "        )"
   ]
  },
  {
   "cell_type": "code",
   "execution_count": 34,
   "metadata": {},
   "outputs": [],
   "source": [
    "df = pd.read_csv('final_pass_track_4440.csv')"
   ]
  },
  {
   "cell_type": "code",
   "execution_count": 35,
   "metadata": {},
   "outputs": [
    {
     "name": "stderr",
     "output_type": "stream",
     "text": [
      "/tmp/ipykernel_213826/177791138.py:54: RuntimeWarning: invalid value encountered in sqrt\n",
      "  matrix[2, :, :] = np.sqrt((xx - x0_ball) * 2 + (yy - y0_ball) * 2)\n",
      "/tmp/ipykernel_213826/177791138.py:58: RuntimeWarning: invalid value encountered in sqrt\n",
      "  matrix[3, :, :] = np.sqrt((xx - x0_goal) * 2 + (yy - y0_goal) * 2)\n",
      "/tmp/ipykernel_213826/177791138.py:108: RuntimeWarning: invalid value encountered in sqrt\n",
      "  matrix[14, :, :] = np.sqrt((xx - x0_start) * 2 + (yy - y0_start) * 2)\n"
     ]
    }
   ],
   "source": [
    "pass_outcome_mapping = {\n",
    "    'C': 0,\n",
    "    'D': 1,\n",
    "    'B': 2,\n",
    "    'O': 3,\n",
    "    'S': 4\n",
    "}\n",
    "sample = {\n",
    "    \"ball_x_start\": df.iloc[1:2][\"ball_x_start\"].iloc[0],\n",
    "    \"ball_y_start\": df.iloc[1:2][\"ball_y_start\"].iloc[0],\n",
    "    \"ball_x_end\": df.iloc[1:2][\"ball_x_end\"].iloc[0],\n",
    "    \"ball_y_end\": df.iloc[1:2][\"ball_y_end\"].iloc[0],\n",
    "    \"vx_player_201\": df.iloc[1:2][\"vx_player_201\"].iloc[0],\n",
    "    \"vy_player_201\": df.iloc[1:2][\"vy_player_201\"].iloc[0],\n",
    "    \"pass_outcome_type\": df.iloc[1:2][\"pass_outcome_type\"].iloc[0],\n",
    "    \"team_id\": df.iloc[1:2][\"team_id\"].iloc[0],\n",
    "    \"carrier_velocity\": df.iloc[1:2][\"carrier_velocity\"].iloc[0],\n",
    "    \"frame\": df.iloc[1:2]  \n",
    "}\n",
    "\n",
    "tensor_converter = ToSoccerMapTensor()\n",
    "matrix, mask, target = tensor_converter(sample)"
   ]
  },
  {
   "cell_type": "code",
   "execution_count": 23,
   "metadata": {},
   "outputs": [
    {
     "name": "stdout",
     "output_type": "stream",
     "text": [
      "Índices com NaNs na primeira dimensão: [2, 3, 14]\n"
     ]
    }
   ],
   "source": [
    "has_nan = torch.isnan(matrix)\n",
    "\n",
    "nan_indices = [i for i in range(matrix.size(0)) if torch.any(has_nan[i])]\n",
    "\n",
    "print(\"Índices com NaNs na primeira dimensão:\", nan_indices)"
   ]
  },
  {
   "cell_type": "code",
   "execution_count": 31,
   "metadata": {},
   "outputs": [
    {
     "data": {
      "text/plain": [
       "0"
      ]
     },
     "execution_count": 31,
     "metadata": {},
     "output_type": "execute_result"
    }
   ],
   "source": [
    "int(target[0])"
   ]
  },
  {
   "cell_type": "code",
   "execution_count": 58,
   "metadata": {},
   "outputs": [
    {
     "data": {
      "text/html": [
       "<div>\n",
       "<style scoped>\n",
       "    .dataframe tbody tr th:only-of-type {\n",
       "        vertical-align: middle;\n",
       "    }\n",
       "\n",
       "    .dataframe tbody tr th {\n",
       "        vertical-align: top;\n",
       "    }\n",
       "\n",
       "    .dataframe thead th {\n",
       "        text-align: right;\n",
       "    }\n",
       "</style>\n",
       "<table border=\"1\" class=\"dataframe\">\n",
       "  <thead>\n",
       "    <tr style=\"text-align: right;\">\n",
       "      <th></th>\n",
       "      <th>game_id</th>\n",
       "      <th>period</th>\n",
       "      <th>game_event_id</th>\n",
       "      <th>possession_event_id</th>\n",
       "      <th>player_id</th>\n",
       "      <th>shirt_number</th>\n",
       "      <th>possession_event_type</th>\n",
       "      <th>position_group_type</th>\n",
       "      <th>team_id</th>\n",
       "      <th>home_team</th>\n",
       "      <th>...</th>\n",
       "      <th>angle_to_goal_left</th>\n",
       "      <th>angle_to_goal_right</th>\n",
       "      <th>angle_to_goal</th>\n",
       "      <th>sin_angle_possession</th>\n",
       "      <th>cos_angle_possession</th>\n",
       "      <th>opponent_team_velocity_x</th>\n",
       "      <th>opponent_team_velocity_y</th>\n",
       "      <th>carrier_velocity</th>\n",
       "      <th>other_players_location</th>\n",
       "      <th>possession_team_velocity</th>\n",
       "    </tr>\n",
       "  </thead>\n",
       "  <tbody>\n",
       "    <tr>\n",
       "      <th>0</th>\n",
       "      <td>4440</td>\n",
       "      <td>1.0</td>\n",
       "      <td>4466727.0</td>\n",
       "      <td>4283224.0</td>\n",
       "      <td>5076.0</td>\n",
       "      <td>17.0</td>\n",
       "      <td>PA</td>\n",
       "      <td>CF</td>\n",
       "      <td>119.0</td>\n",
       "      <td>False</td>\n",
       "      <td>...</td>\n",
       "      <td>3.115497</td>\n",
       "      <td>0.026543</td>\n",
       "      <td>0.026543</td>\n",
       "      <td>0.02654</td>\n",
       "      <td>0.999648</td>\n",
       "      <td>NaN</td>\n",
       "      <td>NaN</td>\n",
       "      <td>0.577062</td>\n",
       "      <td>[(-39.075, -0.667)]</td>\n",
       "      <td>NaN</td>\n",
       "    </tr>\n",
       "  </tbody>\n",
       "</table>\n",
       "<p>1 rows × 57 columns</p>\n",
       "</div>"
      ],
      "text/plain": [
       "   game_id  period  game_event_id  possession_event_id  player_id  \\\n",
       "0     4440     1.0      4466727.0            4283224.0     5076.0   \n",
       "\n",
       "   shirt_number possession_event_type position_group_type  team_id  home_team  \\\n",
       "0          17.0                    PA                  CF    119.0      False   \n",
       "\n",
       "   ...  angle_to_goal_left  angle_to_goal_right angle_to_goal  \\\n",
       "0  ...            3.115497             0.026543      0.026543   \n",
       "\n",
       "   sin_angle_possession  cos_angle_possession  opponent_team_velocity_x  \\\n",
       "0               0.02654              0.999648                       NaN   \n",
       "\n",
       "   opponent_team_velocity_y  carrier_velocity other_players_location  \\\n",
       "0                       NaN          0.577062    [(-39.075, -0.667)]   \n",
       "\n",
       "   possession_team_velocity  \n",
       "0                       NaN  \n",
       "\n",
       "[1 rows x 57 columns]"
      ]
     },
     "execution_count": 58,
     "metadata": {},
     "output_type": "execute_result"
    }
   ],
   "source": [
    "df.iloc[:1]"
   ]
  },
  {
   "cell_type": "code",
   "execution_count": 48,
   "metadata": {},
   "outputs": [
    {
     "data": {
      "text/plain": [
       "1"
      ]
     },
     "execution_count": 48,
     "metadata": {},
     "output_type": "execute_result"
    }
   ],
   "source": [
    "(spatial_representations.size)"
   ]
  },
  {
   "cell_type": "code",
   "execution_count": 50,
   "metadata": {},
   "outputs": [
    {
     "data": {
      "text/plain": [
       "pandas.core.series.Series"
      ]
     },
     "execution_count": 50,
     "metadata": {},
     "output_type": "execute_result"
    }
   ],
   "source": [
    "type(spatial_representations)"
   ]
  },
  {
   "cell_type": "code",
   "execution_count": 49,
   "metadata": {},
   "outputs": [
    {
     "data": {
      "text/plain": [
       "3"
      ]
     },
     "execution_count": 49,
     "metadata": {},
     "output_type": "execute_result"
    }
   ],
   "source": [
    "(len(spatial_representations[0]))"
   ]
  },
  {
   "cell_type": "code",
   "execution_count": 51,
   "metadata": {},
   "outputs": [
    {
     "data": {
      "text/plain": [
       "tuple"
      ]
     },
     "execution_count": 51,
     "metadata": {},
     "output_type": "execute_result"
    }
   ],
   "source": [
    "type(spatial_representations[0])"
   ]
  },
  {
   "cell_type": "code",
   "execution_count": 52,
   "metadata": {},
   "outputs": [
    {
     "data": {
      "text/plain": [
       "19"
      ]
     },
     "execution_count": 52,
     "metadata": {},
     "output_type": "execute_result"
    }
   ],
   "source": [
    "(len(spatial_representations[0][0]))"
   ]
  },
  {
   "cell_type": "code",
   "execution_count": 53,
   "metadata": {},
   "outputs": [
    {
     "data": {
      "text/plain": [
       "torch.Tensor"
      ]
     },
     "execution_count": 53,
     "metadata": {},
     "output_type": "execute_result"
    }
   ],
   "source": [
    "type(spatial_representations[0][0])"
   ]
  },
  {
   "cell_type": "code",
   "execution_count": 55,
   "metadata": {},
   "outputs": [
    {
     "data": {
      "text/plain": [
       "68"
      ]
     },
     "execution_count": 55,
     "metadata": {},
     "output_type": "execute_result"
    }
   ],
   "source": [
    "(len(spatial_representations[0][0][0]))"
   ]
  },
  {
   "cell_type": "code",
   "execution_count": 54,
   "metadata": {},
   "outputs": [
    {
     "data": {
      "text/plain": [
       "torch.Tensor"
      ]
     },
     "execution_count": 54,
     "metadata": {},
     "output_type": "execute_result"
    }
   ],
   "source": [
    "type(spatial_representations[0][0][0])"
   ]
  },
  {
   "cell_type": "code",
   "execution_count": 56,
   "metadata": {},
   "outputs": [
    {
     "data": {
      "text/plain": [
       "104"
      ]
     },
     "execution_count": 56,
     "metadata": {},
     "output_type": "execute_result"
    }
   ],
   "source": [
    "(len(spatial_representations[0][0][0][0]))"
   ]
  },
  {
   "cell_type": "code",
   "execution_count": 57,
   "metadata": {},
   "outputs": [
    {
     "data": {
      "text/plain": [
       "torch.Tensor"
      ]
     },
     "execution_count": 57,
     "metadata": {},
     "output_type": "execute_result"
    }
   ],
   "source": [
    "type(spatial_representations[0][0][0][0])"
   ]
  },
  {
   "cell_type": "markdown",
   "metadata": {},
   "source": [
    "(pandas.core.series.Series,tuple,torch.Tensor,torch.Tensor)\n",
    "(1,3,19,68,104)"
   ]
  },
  {
   "cell_type": "code",
   "execution_count": 78,
   "metadata": {},
   "outputs": [
    {
     "name": "stderr",
     "output_type": "stream",
     "text": [
      "/tmp/ipykernel_11417/2553297429.py:54: RuntimeWarning: invalid value encountered in sqrt\n",
      "  matrix[2, :, :] = np.sqrt((xx - x0_ball) * 2 + (yy - y0_ball) * 2)\n",
      "/tmp/ipykernel_11417/2553297429.py:58: RuntimeWarning: invalid value encountered in sqrt\n",
      "  matrix[3, :, :] = np.sqrt((xx - x0_goal) * 2 + (yy - y0_goal) * 2)\n",
      "/tmp/ipykernel_11417/2553297429.py:108: RuntimeWarning: invalid value encountered in sqrt\n",
      "  matrix[14, :, :] = np.sqrt((xx - x0_start) * 2 + (yy - y0_start) * 2)\n"
     ]
    }
   ],
   "source": [
    "class ToSoccerMapTensor:\n",
    "    \"\"\"Convert inputs to a spatial representation.\n",
    "\n",
    "    Parameters\n",
    "    ----------\n",
    "    dim : tuple(int), default=(68, 104)\n",
    "        The dimensions of the pitch in the spatial representation.\n",
    "    \"\"\"\n",
    "\n",
    "    def __init__(self, dim=(68, 104)):\n",
    "        assert len(dim) == 2\n",
    "        self.y_bins, self.x_bins = dim\n",
    "\n",
    "    def _get_cell_indexes(self, x, y):\n",
    "        x_bin = np.clip((x + 52.5) / 105 * self.x_bins, 0, self.x_bins - 1).astype(np.uint8)\n",
    "        y_bin = np.clip((y + 34) / 68 * self.y_bins, 0, self.y_bins - 1).astype(np.uint8)\n",
    "        return x_bin, y_bin\n",
    "\n",
    "    def __call__(self, sample):\n",
    "        start_x, start_y, end_x, end_y = (\n",
    "            sample[\"ball_x_start\"],\n",
    "            sample[\"ball_y_start\"],\n",
    "            sample[\"ball_x_end\"],\n",
    "            sample[\"ball_y_end\"],\n",
    "        )\n",
    "        speed_x, speed_y = sample[\"vx_player_201\"], sample[\"vy_player_201\"]\n",
    "        frame = sample[\"frame\"]\n",
    "\n",
    "        pass_outcome_type = sample.get(\"pass_outcome_type\")\n",
    "        pass_outcome_type_mapped = pass_outcome_mapping.get(pass_outcome_type, None)\n",
    "        if pass_outcome_type_mapped is None:\n",
    "            raise ValueError(f\"Invalid pass_outcome_type: {pass_outcome_type}\")\n",
    "        target = int(pass_outcome_type_mapped)\n",
    "\n",
    "        ball_coo = np.array([[start_x, start_y]])\n",
    "        goal_coo = np.array([[52.5, 0]])\n",
    "\n",
    "        players_att_coo = frame.loc[frame[\"team_id\"] == sample[\"team_id\"], [\"x_player_201\", \"y_player_201\"]].values.reshape(-1, 2)\n",
    "        players_def_coo = frame.loc[frame[\"team_id\"] != sample[\"team_id\"], [\"x_player_201\", \"y_player_201\"]].values.reshape(-1, 2)\n",
    "\n",
    "        matrix = np.zeros((15, self.y_bins, self.x_bins))\n",
    "\n",
    "        # Channel 1: Locations of attacking team\n",
    "        x_bin_att, y_bin_att = self._get_cell_indexes(players_att_coo[:, 0], players_att_coo[:, 1])\n",
    "        matrix[0, y_bin_att, x_bin_att] = 1\n",
    "\n",
    "        # Channel 2: Locations of defending team\n",
    "        x_bin_def, y_bin_def = self._get_cell_indexes(players_def_coo[:, 0], players_def_coo[:, 1])\n",
    "        matrix[1, y_bin_def, x_bin_def] = 1\n",
    "\n",
    "        # Channel 3: Distance to ball\n",
    "        yy, xx = np.ogrid[0.5: self.y_bins, 0.5: self.x_bins]\n",
    "        x0_ball, y0_ball = self._get_cell_indexes(ball_coo[:, 0], ball_coo[:, 1])\n",
    "        matrix[2, :, :] = np.sqrt((xx - x0_ball) * 2 + (yy - y0_ball) * 2)\n",
    "\n",
    "        # Channel 4: Distance to goal\n",
    "        x0_goal, y0_goal = self._get_cell_indexes(goal_coo[:, 0], goal_coo[:, 1])\n",
    "        matrix[3, :, :] = np.sqrt((xx - x0_goal) * 2 + (yy - y0_goal) * 2)\n",
    "\n",
    "        # Channel 5: Cosine of the angle between the ball and goal\n",
    "        coords = np.dstack(np.meshgrid(xx, yy))\n",
    "        goal_coo_bin = np.concatenate((x0_goal, y0_goal))\n",
    "        ball_coo_bin = np.concatenate((x0_ball, y0_ball))\n",
    "        a = goal_coo_bin - coords\n",
    "        b = ball_coo_bin - coords\n",
    "        matrix[4, :, :] = np.clip(np.sum(a * b, axis=2) / (np.linalg.norm(a, axis=2) * np.linalg.norm(b, axis=2)), -1, 1)\n",
    "\n",
    "        # Channel 6: Sine of the angle between the ball and goal\n",
    "        matrix[5, :, :] = np.sqrt(1 - matrix[4, :, :] ** 2)\n",
    "\n",
    "        # Channel 7: Angle to the goal location\n",
    "        matrix[6, :, :] = np.abs(np.arctan2((y0_goal - coords[:, :, 1]), (x0_goal - coords[:, :, 0])))\n",
    "\n",
    "        # Channels 8-9: Ball speed\n",
    "        matrix[7, y0_ball, x0_ball] = speed_x\n",
    "        matrix[8, y0_ball, x0_ball] = speed_y\n",
    "\n",
    "        # Channel 10: Number of possession team’s players between the ball and every other location\n",
    "        dist_att_goal = matrix[0, :, :] * matrix[3, :, :]\n",
    "        dist_att_goal[dist_att_goal == 0] = np.nan\n",
    "        dist_ball_goal = matrix[3, y0_ball, x0_ball]\n",
    "        player_in_front_of_ball = dist_att_goal <= dist_ball_goal\n",
    "\n",
    "        outplayed1 = lambda x: np.sum(player_in_front_of_ball & (x <= dist_ball_goal) & (dist_att_goal >= x))\n",
    "        matrix[9, :, :] = np.vectorize(outplayed1)(matrix[3, :, :])\n",
    "\n",
    "        # Channel 11: Number of opponent team’s players between the ball and every other location\n",
    "        dist_def_goal = matrix[1, :, :] * matrix[3, :, :]\n",
    "        dist_def_goal[dist_def_goal == 0] = np.nan\n",
    "        dist_ball_goal = matrix[3, y0_ball, x0_ball]\n",
    "        player_in_front_of_ball = dist_def_goal <= dist_ball_goal\n",
    "\n",
    "        outplayed2 = lambda x: np.sum(player_in_front_of_ball & (x <= dist_ball_goal) & (dist_def_goal >= x))\n",
    "        matrix[10, :, :] = np.vectorize(outplayed2)(matrix[3, :, :])\n",
    "\n",
    "        # Channel 12: Carrier's velocity\n",
    "        carrier_velocity = sample[\"carrier_velocity\"]\n",
    "        matrix[11, y0_ball, x0_ball] = carrier_velocity\n",
    "\n",
    "        # Channels 13-14: Possession team players' velocity (x and y)\n",
    "        players_vel_coo = frame.loc[frame[\"team_id\"] == sample[\"team_id\"], [\"vx_player_201\", \"vy_player_201\"]].values\n",
    "        x_bin_att_vel, y_bin_att_vel = self._get_cell_indexes(players_att_coo[:, 0], players_att_coo[:, 1])\n",
    "        matrix[12, y_bin_att_vel, x_bin_att_vel] = players_vel_coo[:, 0]\n",
    "        matrix[13, y_bin_att_vel, x_bin_att_vel] = players_vel_coo[:, 1]\n",
    "\n",
    "        # Channel 15: Distance to event's origin location\n",
    "        x0_start, y0_start = self._get_cell_indexes(np.array([start_x]), np.array([start_y]))\n",
    "        matrix[14, :, :] = np.sqrt((xx - x0_start) * 2 + (yy - y0_start) * 2)\n",
    "\n",
    "        mask = np.zeros((1, self.y_bins, self.x_bins))\n",
    "        end_ball_coo = np.array([[end_x, end_y]])\n",
    "        if np.isnan(end_ball_coo).any():\n",
    "            raise ValueError(\"End coordinates not known.\")\n",
    "        x0_ball_end, y0_ball_end = self._get_cell_indexes(end_ball_coo[:, 0], end_ball_coo[:, 1])\n",
    "        mask[0, y0_ball_end, x0_ball_end] = 1\n",
    "\n",
    "        return (\n",
    "            torch.from_numpy(matrix).float(),\n",
    "            torch.from_numpy(mask).float(),\n",
    "            torch.tensor([target]).float()\n",
    "        )\n",
    "pass_outcome_mapping = {\n",
    "    'C': 0,\n",
    "    'D': 1,\n",
    "    'B': 2,\n",
    "    'O': 3,\n",
    "    'S': 4\n",
    "}\n",
    "sample = {\n",
    "    \"ball_x_start\": df.iloc[1:2][\"ball_x_start\"].iloc[0],\n",
    "    \"ball_y_start\": df.iloc[1:2][\"ball_y_start\"].iloc[0],\n",
    "    \"ball_x_end\": df.iloc[1:2][\"ball_x_end\"].iloc[0],\n",
    "    \"ball_y_end\": df.iloc[1:2][\"ball_y_end\"].iloc[0],\n",
    "    \"vx_player_201\": df.iloc[1:2][\"vx_player_201\"].iloc[0],\n",
    "    \"vy_player_201\": df.iloc[1:2][\"vy_player_201\"].iloc[0],\n",
    "    \"pass_outcome_type\": df.iloc[1:2][\"pass_outcome_type\"].iloc[0],\n",
    "    \"team_id\": df.iloc[1:2][\"team_id\"].iloc[0],\n",
    "    \"carrier_velocity\": df.iloc[1:2][\"carrier_velocity\"].iloc[0],\n",
    "    \"frame\": df.iloc[1:2]  \n",
    "}\n",
    "\n",
    "tensor_converter = ToSoccerMapTensor()\n",
    "matrix, mask, target = tensor_converter(sample)"
   ]
  },
  {
   "cell_type": "code",
   "execution_count": 81,
   "metadata": {},
   "outputs": [
    {
     "data": {
      "text/plain": [
       "tensor([0.])"
      ]
     },
     "execution_count": 81,
     "metadata": {},
     "output_type": "execute_result"
    }
   ],
   "source": [
    "target"
   ]
  }
 ],
 "metadata": {
  "kernelspec": {
   "display_name": "Python 3",
   "language": "python",
   "name": "python3"
  },
  "language_info": {
   "codemirror_mode": {
    "name": "ipython",
    "version": 3
   },
   "file_extension": ".py",
   "mimetype": "text/x-python",
   "name": "python",
   "nbconvert_exporter": "python",
   "pygments_lexer": "ipython3",
   "version": "3.10.12"
  }
 },
 "nbformat": 4,
 "nbformat_minor": 2
}
